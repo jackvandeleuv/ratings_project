{
 "cells": [
  {
   "cell_type": "code",
   "execution_count": 34,
   "metadata": {},
   "outputs": [],
   "source": [
    "from selenium import webdriver\n",
    "from selenium.webdriver.chrome.options import Options\n",
    "from selenium.webdriver.chrome.service import Service\n",
    "from selenium.webdriver.common.by import By\n",
    "from selenium.webdriver.common.keys import Keys\n",
    "from webdriver_manager.chrome import ChromeDriverManager"
   ]
  },
  {
   "cell_type": "code",
   "execution_count": 35,
   "metadata": {},
   "outputs": [],
   "source": [
    "# Load and configure webdriver.\n",
    "options = Options()\n",
    "# Stop browser windows from actually popping up.\n",
    "options.add_argument('--headless')\n",
    "# Install a browser for use by Selenium.\n",
    "service = Service(executable_path=ChromeDriverManager().install())\n",
    "driver = webdriver.Chrome(service=service, options=options)"
   ]
  },
  {
   "cell_type": "code",
   "execution_count": 36,
   "metadata": {},
   "outputs": [],
   "source": [
    "# Navigate to US Chess tournament search page.\n",
    "USCF_URL = 'http://www.uschess.org/datapage/events-rated.php'\n",
    "uscf_events_page = driver.get(USCF_URL)"
   ]
  },
  {
   "cell_type": "code",
   "execution_count": 37,
   "metadata": {},
   "outputs": [
    {
     "data": {
      "text/plain": [
       "True"
      ]
     },
     "execution_count": 37,
     "metadata": {},
     "output_type": "execute_result"
    }
   ],
   "source": [
    "# Select a month on the page.\n",
    "date_to_visit = '11/2022'\n",
    "date_search_box = driver.find_element('name', 'month')\n",
    "date_search_box.send_keys(date_to_visit)\n",
    "\n",
    "# Select CA as the State Code, which is where all \n",
    "# chess.com USCF tournaments are registered.\n",
    "state_search_box = driver.find_element('name', 'states')\n",
    "state_search_box.send_keys('CA')\n",
    "state_search_box.submit()\n",
    "\n",
    "driver.save_screenshot('test_screenshot.png')"
   ]
  },
  {
   "cell_type": "code",
   "execution_count": 51,
   "metadata": {},
   "outputs": [],
   "source": [
    "# Now that we have navigated to a results page that displays\n",
    "# a table of tournaments, we can select table elements.\n",
    "\n",
    "# Isolate only the data in the table body.\n",
    "table_body = driver.find_elements(By.TAG_NAME, 'tbody')[2]\n",
    "table_body_row = table_body.find_elements(By.TAG_NAME, 'tr')\n",
    "table_row = table_body_row[4].find_elements(By.TAG_NAME, 'td')\n",
    "\n",
    "# Get link to tournament page\n",
    "print(table_row[0].find_element(By.TAG_NAME, 'a').get_attribute('href'))\n",
    "\n",
    "print(table_row[1].text)\n",
    "\n",
    "\n"
   ]
  }
 ],
 "metadata": {
  "kernelspec": {
   "display_name": "base",
   "language": "python",
   "name": "python3"
  },
  "language_info": {
   "codemirror_mode": {
    "name": "ipython",
    "version": 3
   },
   "file_extension": ".py",
   "mimetype": "text/x-python",
   "name": "python",
   "nbconvert_exporter": "python",
   "pygments_lexer": "ipython3",
   "version": "3.9.13"
  },
  "orig_nbformat": 4,
  "vscode": {
   "interpreter": {
    "hash": "08dda85ff3eed27e021538f884514942bf23697aea11a618f005da4f18a9508c"
   }
  }
 },
 "nbformat": 4,
 "nbformat_minor": 2
}
