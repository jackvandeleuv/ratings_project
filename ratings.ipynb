{
 "cells": [
  {
   "cell_type": "code",
   "execution_count": 1,
   "metadata": {},
   "outputs": [],
   "source": [
    "from selenium import webdriver\n",
    "from selenium.webdriver.chrome.options import Options\n",
    "from selenium.webdriver.chrome.service import Service\n",
    "from webdriver_manager.chrome import ChromeDriverManager"
   ]
  },
  {
   "cell_type": "code",
   "execution_count": 2,
   "metadata": {},
   "outputs": [],
   "source": [
    "# Load and configure webdriver.\n",
    "options = Options()\n",
    "# Stop browser windows from actually popping up.\n",
    "options.add_argument('--headless')\n",
    "# Install a browser for use by Selenium.\n",
    "service = Service(executable_path=ChromeDriverManager().install())\n",
    "driver = webdriver.Chrome(service=service, options=options)"
   ]
  },
  {
   "cell_type": "code",
   "execution_count": 7,
   "metadata": {},
   "outputs": [],
   "source": [
    "# Navigate to US Chess tournament search page.\n",
    "USCF_URL = 'http://www.uschess.org/datapage/events-rated.php'\n",
    "uscf_events_page = driver.get(USCF_URL)"
   ]
  },
  {
   "cell_type": "code",
   "execution_count": 17,
   "metadata": {},
   "outputs": [],
   "source": [
    "# Select a month on the page.\n",
    "date_to_visit = '11/2022'\n",
    "date_search_box = driver.find_element('name', 'month')\n",
    "date_search_box.send_keys(date_to_visit)\n",
    "\n",
    "# Select CA as the State Code, which is where all \n",
    "# chess.com USCF tournaments are registered.\n",
    "state_search_box = driver.find_element('name', 'states')\n",
    "state_search_box.send_keys('CA')\n",
    "state_search_box.submit()"
   ]
  }
 ],
 "metadata": {
  "kernelspec": {
   "display_name": "base",
   "language": "python",
   "name": "python3"
  },
  "language_info": {
   "codemirror_mode": {
    "name": "ipython",
    "version": 3
   },
   "file_extension": ".py",
   "mimetype": "text/x-python",
   "name": "python",
   "nbconvert_exporter": "python",
   "pygments_lexer": "ipython3",
   "version": "3.9.13"
  },
  "orig_nbformat": 4,
  "vscode": {
   "interpreter": {
    "hash": "08dda85ff3eed27e021538f884514942bf23697aea11a618f005da4f18a9508c"
   }
  }
 },
 "nbformat": 4,
 "nbformat_minor": 2
}
