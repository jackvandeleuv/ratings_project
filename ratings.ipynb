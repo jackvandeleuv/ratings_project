{
 "cells": [
  {
   "cell_type": "code",
   "execution_count": 1,
   "metadata": {},
   "outputs": [],
   "source": [
    "from selenium.webdriver import Chrome\n",
    "from selenium.webdriver.chrome.options import Options\n",
    "from selenium.webdriver.chrome.service import Service\n",
    "from selenium.webdriver.common.by import By\n",
    "from selenium.webdriver.common.keys import Keys\n",
    "from selenium.webdriver.remote.webelement import WebElement\n",
    "from webdriver_manager.chrome import ChromeDriverManager\n",
    "from typing import List"
   ]
  },
  {
   "cell_type": "code",
   "execution_count": 2,
   "metadata": {},
   "outputs": [],
   "source": [
    "# Instantiate a Chrome driver.\n",
    "def load_driver() -> None:\n",
    "    # Load and configure webdriver.\n",
    "    options: Options = Options()\n",
    "    # Stop browser windows from actually popping up.\n",
    "    options.add_argument('--headless')\n",
    "    # Install a browser for use by Selenium.\n",
    "    service: Service = Service(executable_path=ChromeDriverManager().install())\n",
    "    return Chrome(service=service, options=options)"
   ]
  },
  {
   "cell_type": "code",
   "execution_count": 9,
   "metadata": {},
   "outputs": [],
   "source": [
    "# Helper function that navigates to the search result page for a particular\n",
    "# month on the USCF page for historical tournament data.\n",
    "def navigate_to_uscf_page(driver: Chrome, date_to_visit: str) -> None:\n",
    "    # Navigate to US Chess tournament search page.\n",
    "    USCF_URL = 'http://www.uschess.org/datapage/events-rated.php'\n",
    "    driver.get(USCF_URL)\n",
    "    date_search_box: WebElement = driver.find_element('name', 'month')\n",
    "    date_search_box.clear()\n",
    "    date_search_box.send_keys(date_to_visit)\n",
    "\n",
    "    # Select CA as the State Code, which is where all \n",
    "    # chess.com USCF tournaments are registered.\n",
    "    state_search_box: WebElement = driver.find_element('name', 'states')\n",
    "    state_search_box.clear()\n",
    "    state_search_box.send_keys('CA')\n",
    "    state_search_box.submit()"
   ]
  },
  {
   "cell_type": "code",
   "execution_count": 10,
   "metadata": {},
   "outputs": [],
   "source": [
    "# Scrapes tournment urls for the month that the driver is currently\n",
    "# pointed add. Helper function navigate_to_uscf_page() navigates to the\n",
    "# correct page.\n",
    "def scrape_uscf_tournament_urls(driver: Chrome) -> List[str]:\n",
    "    table_body: List[WebElement] = driver.find_elements(By.TAG_NAME, 'tbody')[2]\n",
    "    table_body_row: List[WebElement] = table_body.find_elements(By.TAG_NAME, 'tr')\n",
    "    url_list: List[str] = []\n",
    "    for row in table_body_row:\n",
    "        # Each row is a WebElement with data about one tournament.\n",
    "        table_row: List[WebElement] = row.find_elements(By.TAG_NAME, 'td')\n",
    "        if len(table_row) >= 3:\n",
    "            url: str = None\n",
    "            for element in table_row:\n",
    "                if element.text.isnumeric() and len(element.text) > 10:\n",
    "                    url = element.find_element(By.TAG_NAME, 'a').get_attribute('href')\n",
    "                # Only keep tournament urls labeled \"CHESS.COM\"\n",
    "                if 'CHESS.COM' in element.text.upper():\n",
    "                    url_list.append(url)\n",
    "    return url_list     "
   ]
  },
  {
   "cell_type": "code",
   "execution_count": 16,
   "metadata": {},
   "outputs": [],
   "source": [
    "import sqlite3\n",
    "from sqlite3 import Connection, Cursor\n",
    "\n",
    "def get_cursor() -> Cursor:\n",
    "    return sqlite3.Connection('scrape_data.db').cursor()\n",
    "\n",
    "# Drop then create tables for all data scraped by this module.\n",
    "def init_db() -> None:\n",
    "    cur: Cursor = get_cursor()\n",
    "    cur.execute(\"\"\"DROP TABLE IF EXISTS uscf_urls\"\"\")\n",
    "    # Stores urls to allow us to navigate to all relevant USCF tournaments.\n",
    "    cur.execute(\"\"\"CREATE TABLE IF NOT EXISTS uscf_urls (\n",
    "        id INTEGER PRIMARY KEY,\n",
    "        date TEXT,\n",
    "        url TEXT,\n",
    "        scraped INTEGER\n",
    "        )\"\"\")"
   ]
  },
  {
   "cell_type": "code",
   "execution_count": 14,
   "metadata": {},
   "outputs": [],
   "source": [
    "# Scrapes a list of urls. Each url is a USCF tournament with a parallel entry\n",
    "# on chess.com. Every month between 2015 and 2023 inclusive is checked.\n",
    "def scrape_all_uscf_urls(driver: Chrome) -> List[str]:\n",
    "    url_list: List[str] = []\n",
    "    for year in range(2023, 2014, -1):\n",
    "        # Page requires single digit months to have a 0 in front.\n",
    "        for month in range(1, 10):\n",
    "            date: str = '0' + str(month) + '/' + str(year)\n",
    "            print(date)\n",
    "            navigate_to_uscf_page(driver, date)\n",
    "            url_list.extend(scrape_uscf_tournament_urls(driver))\n",
    "        for month in range(10, 13):\n",
    "            date: str = str(month) + '/' + str(year)\n",
    "            print(date)\n",
    "            navigate_to_uscf_page(driver, date)\n",
    "            url_list.extend(scrape_uscf_tournament_urls(driver))\n",
    "    return url_list"
   ]
  },
  {
   "cell_type": "code",
   "execution_count": 15,
   "metadata": {},
   "outputs": [
    {
     "name": "stdout",
     "output_type": "stream",
     "text": [
      "01/2023\n",
      "02/2023\n",
      "03/2023\n",
      "04/2023\n",
      "05/2023\n",
      "06/2023\n",
      "07/2023\n",
      "08/2023\n",
      "09/2023\n",
      "10/2023\n",
      "11/2023\n",
      "12/2023\n",
      "01/2022\n",
      "02/2022\n",
      "03/2022\n",
      "04/2022\n",
      "05/2022\n",
      "06/2022\n",
      "07/2022\n",
      "08/2022\n",
      "09/2022\n",
      "10/2022\n",
      "11/2022\n",
      "12/2022\n",
      "['http://www.uschess.org/msa/XtblMain.php?202301023902', 'http://www.uschess.org/msa/XtblMain.php?202301023912', 'http://www.uschess.org/msa/XtblMain.php?202301023922', 'http://www.uschess.org/msa/XtblMain.php?202301023932', 'http://www.uschess.org/msa/XtblMain.php?202301043942', 'http://www.uschess.org/msa/XtblMain.php?202301045042', 'http://www.uschess.org/msa/XtblMain.php?202301065052', 'http://www.uschess.org/msa/XtblMain.php?202301065062', 'http://www.uschess.org/msa/XtblMain.php?202301075072', 'http://www.uschess.org/msa/XtblMain.php?202301075082', 'http://www.uschess.org/msa/XtblMain.php?202301098332', 'http://www.uschess.org/msa/XtblMain.php?202301098342', 'http://www.uschess.org/msa/XtblMain.php?202301098352', 'http://www.uschess.org/msa/XtblMain.php?202301098362', 'http://www.uschess.org/msa/XtblMain.php?202301118372', 'http://www.uschess.org/msa/XtblMain.php?202301118382', 'http://www.uschess.org/msa/XtblMain.php?202301138392', 'http://www.uschess.org/msa/XtblMain.php?202301138402', 'http://www.uschess.org/msa/XtblMain.php?202301148412', 'http://www.uschess.org/msa/XtblMain.php?202301148422', 'http://www.uschess.org/msa/XtblMain.php?202301168432', 'http://www.uschess.org/msa/XtblMain.php?202301168442', 'http://www.uschess.org/msa/XtblMain.php?202301168452', 'http://www.uschess.org/msa/XtblMain.php?202301168462', 'http://www.uschess.org/msa/XtblMain.php?202201014822', 'http://www.uschess.org/msa/XtblMain.php?202201014832', 'http://www.uschess.org/msa/XtblMain.php?202201037082', 'http://www.uschess.org/msa/XtblMain.php?202201037092', 'http://www.uschess.org/msa/XtblMain.php?202201038102', 'http://www.uschess.org/msa/XtblMain.php?202201038112', 'http://www.uschess.org/msa/XtblMain.php?202201058122', 'http://www.uschess.org/msa/XtblMain.php?202201058132', 'http://www.uschess.org/msa/XtblMain.php?202201078142', 'http://www.uschess.org/msa/XtblMain.php?202201078152', 'http://www.uschess.org/msa/XtblMain.php?202201088162', 'http://www.uschess.org/msa/XtblMain.php?202201088172', 'http://www.uschess.org/msa/XtblMain.php?202201100002', 'http://www.uschess.org/msa/XtblMain.php?202201100012', 'http://www.uschess.org/msa/XtblMain.php?202201100022', 'http://www.uschess.org/msa/XtblMain.php?202201109992', 'http://www.uschess.org/msa/XtblMain.php?202201120032', 'http://www.uschess.org/msa/XtblMain.php?202201120042', 'http://www.uschess.org/msa/XtblMain.php?202201140052', 'http://www.uschess.org/msa/XtblMain.php?202201141352', 'http://www.uschess.org/msa/XtblMain.php?202201151362', 'http://www.uschess.org/msa/XtblMain.php?202201151372', 'http://www.uschess.org/msa/XtblMain.php?202201172702', 'http://www.uschess.org/msa/XtblMain.php?202201172712', 'http://www.uschess.org/msa/XtblMain.php?202201172722', 'http://www.uschess.org/msa/XtblMain.php?202201172732', 'http://www.uschess.org/msa/XtblMain.php?202201192742', 'http://www.uschess.org/msa/XtblMain.php?202201192752', 'http://www.uschess.org/msa/XtblMain.php?202201212762', 'http://www.uschess.org/msa/XtblMain.php?202201212772', 'http://www.uschess.org/msa/XtblMain.php?202201222782', 'http://www.uschess.org/msa/XtblMain.php?202201222792', 'http://www.uschess.org/msa/XtblMain.php?202201245392', 'http://www.uschess.org/msa/XtblMain.php?202201245402', 'http://www.uschess.org/msa/XtblMain.php?202201245412', 'http://www.uschess.org/msa/XtblMain.php?202201245422', 'http://www.uschess.org/msa/XtblMain.php?202201265432', 'http://www.uschess.org/msa/XtblMain.php?202201265442', 'http://www.uschess.org/msa/XtblMain.php?202201286432', 'http://www.uschess.org/msa/XtblMain.php?202201286442', 'http://www.uschess.org/msa/XtblMain.php?202201297382', 'http://www.uschess.org/msa/XtblMain.php?202201297392', 'http://www.uschess.org/msa/XtblMain.php?202201317832', 'http://www.uschess.org/msa/XtblMain.php?202201317842', 'http://www.uschess.org/msa/XtblMain.php?202201317852', 'http://www.uschess.org/msa/XtblMain.php?202201317862', 'http://www.uschess.org/msa/XtblMain.php?202202029612', 'http://www.uschess.org/msa/XtblMain.php?202202029622', 'http://www.uschess.org/msa/XtblMain.php?202202049632', 'http://www.uschess.org/msa/XtblMain.php?202202049642', 'http://www.uschess.org/msa/XtblMain.php?202202059652', 'http://www.uschess.org/msa/XtblMain.php?202202059662', 'http://www.uschess.org/msa/XtblMain.php?202202079672', 'http://www.uschess.org/msa/XtblMain.php?202202079682', 'http://www.uschess.org/msa/XtblMain.php?202202079692', 'http://www.uschess.org/msa/XtblMain.php?202202079702', 'http://www.uschess.org/msa/XtblMain.php?202202092672', 'http://www.uschess.org/msa/XtblMain.php?202202092682', 'http://www.uschess.org/msa/XtblMain.php?202202112692', 'http://www.uschess.org/msa/XtblMain.php?202202112702', 'http://www.uschess.org/msa/XtblMain.php?202202122712', 'http://www.uschess.org/msa/XtblMain.php?202202122722', 'http://www.uschess.org/msa/XtblMain.php?202202142752', 'http://www.uschess.org/msa/XtblMain.php?202202142762', 'http://www.uschess.org/msa/XtblMain.php?202202142772', 'http://www.uschess.org/msa/XtblMain.php?202202142782', 'http://www.uschess.org/msa/XtblMain.php?202202163712', 'http://www.uschess.org/msa/XtblMain.php?202202163722', 'http://www.uschess.org/msa/XtblMain.php?202202183732', 'http://www.uschess.org/msa/XtblMain.php?202202183742', 'http://www.uschess.org/msa/XtblMain.php?202202193752', 'http://www.uschess.org/msa/XtblMain.php?202202193762', 'http://www.uschess.org/msa/XtblMain.php?202202217722', 'http://www.uschess.org/msa/XtblMain.php?202202217732', 'http://www.uschess.org/msa/XtblMain.php?202202217742', 'http://www.uschess.org/msa/XtblMain.php?202202217752', 'http://www.uschess.org/msa/XtblMain.php?202202237762', 'http://www.uschess.org/msa/XtblMain.php?202202237772', 'http://www.uschess.org/msa/XtblMain.php?202202257792', 'http://www.uschess.org/msa/XtblMain.php?202202257802', 'http://www.uschess.org/msa/XtblMain.php?202202267812', 'http://www.uschess.org/msa/XtblMain.php?202202267822', 'http://www.uschess.org/msa/XtblMain.php?202202280722', 'http://www.uschess.org/msa/XtblMain.php?202202280732', 'http://www.uschess.org/msa/XtblMain.php?202202280742', 'http://www.uschess.org/msa/XtblMain.php?202202280752', 'http://www.uschess.org/msa/XtblMain.php?202203020772', 'http://www.uschess.org/msa/XtblMain.php?202203023402', 'http://www.uschess.org/msa/XtblMain.php?202203040792', 'http://www.uschess.org/msa/XtblMain.php?202203040802', 'http://www.uschess.org/msa/XtblMain.php?202203050812', 'http://www.uschess.org/msa/XtblMain.php?202203050832', 'http://www.uschess.org/msa/XtblMain.php?202203074232', 'http://www.uschess.org/msa/XtblMain.php?202203074242', 'http://www.uschess.org/msa/XtblMain.php?202203074252', 'http://www.uschess.org/msa/XtblMain.php?202203074262', 'http://www.uschess.org/msa/XtblMain.php?202203096482', 'http://www.uschess.org/msa/XtblMain.php?202203096492', 'http://www.uschess.org/msa/XtblMain.php?202203116502', 'http://www.uschess.org/msa/XtblMain.php?202203116532', 'http://www.uschess.org/msa/XtblMain.php?202203126512', 'http://www.uschess.org/msa/XtblMain.php?202203126522', 'http://www.uschess.org/msa/XtblMain.php?202203147652', 'http://www.uschess.org/msa/XtblMain.php?202203147662', 'http://www.uschess.org/msa/XtblMain.php?202203147672', 'http://www.uschess.org/msa/XtblMain.php?202203147682', 'http://www.uschess.org/msa/XtblMain.php?202203167692', 'http://www.uschess.org/msa/XtblMain.php?202203167702', 'http://www.uschess.org/msa/XtblMain.php?202203187712', 'http://www.uschess.org/msa/XtblMain.php?202203187722', 'http://www.uschess.org/msa/XtblMain.php?202203197732', 'http://www.uschess.org/msa/XtblMain.php?202203197742', 'http://www.uschess.org/msa/XtblMain.php?202203213052', 'http://www.uschess.org/msa/XtblMain.php?202203213062', 'http://www.uschess.org/msa/XtblMain.php?202203213072', 'http://www.uschess.org/msa/XtblMain.php?202203213082', 'http://www.uschess.org/msa/XtblMain.php?202203233092', 'http://www.uschess.org/msa/XtblMain.php?202203233102', 'http://www.uschess.org/msa/XtblMain.php?202203253112', 'http://www.uschess.org/msa/XtblMain.php?202203253122', 'http://www.uschess.org/msa/XtblMain.php?202203263132', 'http://www.uschess.org/msa/XtblMain.php?202203263142', 'http://www.uschess.org/msa/XtblMain.php?202203284582', 'http://www.uschess.org/msa/XtblMain.php?202203284592', 'http://www.uschess.org/msa/XtblMain.php?202203284602', 'http://www.uschess.org/msa/XtblMain.php?202203284612', 'http://www.uschess.org/msa/XtblMain.php?202203304622', 'http://www.uschess.org/msa/XtblMain.php?202203304632', 'http://www.uschess.org/msa/XtblMain.php?202204014642', 'http://www.uschess.org/msa/XtblMain.php?202204014652', 'http://www.uschess.org/msa/XtblMain.php?202204024662', 'http://www.uschess.org/msa/XtblMain.php?202204024672', 'http://www.uschess.org/msa/XtblMain.php?202204048492', 'http://www.uschess.org/msa/XtblMain.php?202204048502', 'http://www.uschess.org/msa/XtblMain.php?202204048512', 'http://www.uschess.org/msa/XtblMain.php?202204048522', 'http://www.uschess.org/msa/XtblMain.php?202204068532', 'http://www.uschess.org/msa/XtblMain.php?202204068542', 'http://www.uschess.org/msa/XtblMain.php?202204088552', 'http://www.uschess.org/msa/XtblMain.php?202204088562', 'http://www.uschess.org/msa/XtblMain.php?202204098572', 'http://www.uschess.org/msa/XtblMain.php?202204098582', 'http://www.uschess.org/msa/XtblMain.php?202204112252', 'http://www.uschess.org/msa/XtblMain.php?202204112262', 'http://www.uschess.org/msa/XtblMain.php?202204112282', 'http://www.uschess.org/msa/XtblMain.php?202204112682', 'http://www.uschess.org/msa/XtblMain.php?202204132712', 'http://www.uschess.org/msa/XtblMain.php?202204132722', 'http://www.uschess.org/msa/XtblMain.php?202204152732', 'http://www.uschess.org/msa/XtblMain.php?202204152742', 'http://www.uschess.org/msa/XtblMain.php?202204162752', 'http://www.uschess.org/msa/XtblMain.php?202204162762', 'http://www.uschess.org/msa/XtblMain.php?202204189242', 'http://www.uschess.org/msa/XtblMain.php?202204189252', 'http://www.uschess.org/msa/XtblMain.php?202204189262', 'http://www.uschess.org/msa/XtblMain.php?202204189912', 'http://www.uschess.org/msa/XtblMain.php?202204209272', 'http://www.uschess.org/msa/XtblMain.php?202204209282', 'http://www.uschess.org/msa/XtblMain.php?202204229292', 'http://www.uschess.org/msa/XtblMain.php?202204229302', 'http://www.uschess.org/msa/XtblMain.php?202204239312', 'http://www.uschess.org/msa/XtblMain.php?202204239322', 'http://www.uschess.org/msa/XtblMain.php?202204259752', 'http://www.uschess.org/msa/XtblMain.php?202204259762', 'http://www.uschess.org/msa/XtblMain.php?202204259772', 'http://www.uschess.org/msa/XtblMain.php?202204259782', 'http://www.uschess.org/msa/XtblMain.php?202204272172', 'http://www.uschess.org/msa/XtblMain.php?202204272182', 'http://www.uschess.org/msa/XtblMain.php?202204292192', 'http://www.uschess.org/msa/XtblMain.php?202204292202', 'http://www.uschess.org/msa/XtblMain.php?202204302212', 'http://www.uschess.org/msa/XtblMain.php?202204302222', 'http://www.uschess.org/msa/XtblMain.php?202205025752', 'http://www.uschess.org/msa/XtblMain.php?202205025762', 'http://www.uschess.org/msa/XtblMain.php?202205025772', 'http://www.uschess.org/msa/XtblMain.php?202205025782', 'http://www.uschess.org/msa/XtblMain.php?202205045982', 'http://www.uschess.org/msa/XtblMain.php?202205045992', 'http://www.uschess.org/msa/XtblMain.php?202205066002', 'http://www.uschess.org/msa/XtblMain.php?202205066012', 'http://www.uschess.org/msa/XtblMain.php?202205076022', 'http://www.uschess.org/msa/XtblMain.php?202205076032', 'http://www.uschess.org/msa/XtblMain.php?202205096042', 'http://www.uschess.org/msa/XtblMain.php?202205096052', 'http://www.uschess.org/msa/XtblMain.php?202205096062', 'http://www.uschess.org/msa/XtblMain.php?202205096072', 'http://www.uschess.org/msa/XtblMain.php?202205116082', 'http://www.uschess.org/msa/XtblMain.php?202205116102', 'http://www.uschess.org/msa/XtblMain.php?202205136112', 'http://www.uschess.org/msa/XtblMain.php?202205136122', 'http://www.uschess.org/msa/XtblMain.php?202205146132', 'http://www.uschess.org/msa/XtblMain.php?202205146142', 'http://www.uschess.org/msa/XtblMain.php?202205166742', 'http://www.uschess.org/msa/XtblMain.php?202205166752', 'http://www.uschess.org/msa/XtblMain.php?202205166762', 'http://www.uschess.org/msa/XtblMain.php?202205166772', 'http://www.uschess.org/msa/XtblMain.php?202205186782', 'http://www.uschess.org/msa/XtblMain.php?202205186792', 'http://www.uschess.org/msa/XtblMain.php?202205206802', 'http://www.uschess.org/msa/XtblMain.php?202205206812', 'http://www.uschess.org/msa/XtblMain.php?202205216822', 'http://www.uschess.org/msa/XtblMain.php?202205216832', 'http://www.uschess.org/msa/XtblMain.php?202205238322', 'http://www.uschess.org/msa/XtblMain.php?202205238332', 'http://www.uschess.org/msa/XtblMain.php?202205238342', 'http://www.uschess.org/msa/XtblMain.php?202205238352', 'http://www.uschess.org/msa/XtblMain.php?202205251512', 'http://www.uschess.org/msa/XtblMain.php?202205251522', 'http://www.uschess.org/msa/XtblMain.php?202205271532', 'http://www.uschess.org/msa/XtblMain.php?202205271542', 'http://www.uschess.org/msa/XtblMain.php?202205281742', 'http://www.uschess.org/msa/XtblMain.php?202205281752', 'http://www.uschess.org/msa/XtblMain.php?202205303062', 'http://www.uschess.org/msa/XtblMain.php?202205303072', 'http://www.uschess.org/msa/XtblMain.php?202205303082', 'http://www.uschess.org/msa/XtblMain.php?202205303092', 'http://www.uschess.org/msa/XtblMain.php?202206013102', 'http://www.uschess.org/msa/XtblMain.php?202206013112', 'http://www.uschess.org/msa/XtblMain.php?202206036092', 'http://www.uschess.org/msa/XtblMain.php?202206036102', 'http://www.uschess.org/msa/XtblMain.php?202206046112', 'http://www.uschess.org/msa/XtblMain.php?202206046122', 'http://www.uschess.org/msa/XtblMain.php?202206066342', 'http://www.uschess.org/msa/XtblMain.php?202206066352', 'http://www.uschess.org/msa/XtblMain.php?202206066362', 'http://www.uschess.org/msa/XtblMain.php?202206066372', 'http://www.uschess.org/msa/XtblMain.php?202206086382', 'http://www.uschess.org/msa/XtblMain.php?202206086392', 'http://www.uschess.org/msa/XtblMain.php?202206101452', 'http://www.uschess.org/msa/XtblMain.php?202206101462', 'http://www.uschess.org/msa/XtblMain.php?202206111472', 'http://www.uschess.org/msa/XtblMain.php?202206111482', 'http://www.uschess.org/msa/XtblMain.php?202206131612', 'http://www.uschess.org/msa/XtblMain.php?202206131622', 'http://www.uschess.org/msa/XtblMain.php?202206131632', 'http://www.uschess.org/msa/XtblMain.php?202206131642', 'http://www.uschess.org/msa/XtblMain.php?202206151652', 'http://www.uschess.org/msa/XtblMain.php?202206151662', 'http://www.uschess.org/msa/XtblMain.php?202206174602', 'http://www.uschess.org/msa/XtblMain.php?202206174612', 'http://www.uschess.org/msa/XtblMain.php?202206184622', 'http://www.uschess.org/msa/XtblMain.php?202206184632', 'http://www.uschess.org/msa/XtblMain.php?202206204712', 'http://www.uschess.org/msa/XtblMain.php?202206204722', 'http://www.uschess.org/msa/XtblMain.php?202206204732', 'http://www.uschess.org/msa/XtblMain.php?202206204742', 'http://www.uschess.org/msa/XtblMain.php?202206224752', 'http://www.uschess.org/msa/XtblMain.php?202206224762', 'http://www.uschess.org/msa/XtblMain.php?202206244772', 'http://www.uschess.org/msa/XtblMain.php?202206245012', 'http://www.uschess.org/msa/XtblMain.php?202206255022', 'http://www.uschess.org/msa/XtblMain.php?202206255032', 'http://www.uschess.org/msa/XtblMain.php?202206277702', 'http://www.uschess.org/msa/XtblMain.php?202206277712', 'http://www.uschess.org/msa/XtblMain.php?202206277722', 'http://www.uschess.org/msa/XtblMain.php?202206277732', 'http://www.uschess.org/msa/XtblMain.php?202206297742', 'http://www.uschess.org/msa/XtblMain.php?202206297752', 'http://www.uschess.org/msa/XtblMain.php?202207017762', 'http://www.uschess.org/msa/XtblMain.php?202207017772', 'http://www.uschess.org/msa/XtblMain.php?202207027782', 'http://www.uschess.org/msa/XtblMain.php?202207027792', 'http://www.uschess.org/msa/XtblMain.php?202207048492', 'http://www.uschess.org/msa/XtblMain.php?202207048502', 'http://www.uschess.org/msa/XtblMain.php?202207048512', 'http://www.uschess.org/msa/XtblMain.php?202207048522', 'http://www.uschess.org/msa/XtblMain.php?202207068532', 'http://www.uschess.org/msa/XtblMain.php?202207068542', 'http://www.uschess.org/msa/XtblMain.php?202207088552', 'http://www.uschess.org/msa/XtblMain.php?202207088562', 'http://www.uschess.org/msa/XtblMain.php?202207098572', 'http://www.uschess.org/msa/XtblMain.php?202207098582', 'http://www.uschess.org/msa/XtblMain.php?202207115422', 'http://www.uschess.org/msa/XtblMain.php?202207115432', 'http://www.uschess.org/msa/XtblMain.php?202207115442', 'http://www.uschess.org/msa/XtblMain.php?202207115452', 'http://www.uschess.org/msa/XtblMain.php?202207135462', 'http://www.uschess.org/msa/XtblMain.php?202207135472', 'http://www.uschess.org/msa/XtblMain.php?202207155482', 'http://www.uschess.org/msa/XtblMain.php?202207155492', 'http://www.uschess.org/msa/XtblMain.php?202207165502', 'http://www.uschess.org/msa/XtblMain.php?202207165512', 'http://www.uschess.org/msa/XtblMain.php?202207188692', 'http://www.uschess.org/msa/XtblMain.php?202207188702', 'http://www.uschess.org/msa/XtblMain.php?202207188712', 'http://www.uschess.org/msa/XtblMain.php?202207188722', 'http://www.uschess.org/msa/XtblMain.php?202207208732', 'http://www.uschess.org/msa/XtblMain.php?202207208742', 'http://www.uschess.org/msa/XtblMain.php?202207228752', 'http://www.uschess.org/msa/XtblMain.php?202207228762', 'http://www.uschess.org/msa/XtblMain.php?202207238772', 'http://www.uschess.org/msa/XtblMain.php?202207238782', 'http://www.uschess.org/msa/XtblMain.php?202207250832', 'http://www.uschess.org/msa/XtblMain.php?202207250842', 'http://www.uschess.org/msa/XtblMain.php?202207250852', 'http://www.uschess.org/msa/XtblMain.php?202207250862', 'http://www.uschess.org/msa/XtblMain.php?202207270872', 'http://www.uschess.org/msa/XtblMain.php?202207270882', 'http://www.uschess.org/msa/XtblMain.php?202207290892', 'http://www.uschess.org/msa/XtblMain.php?202207292112', 'http://www.uschess.org/msa/XtblMain.php?202207301322', 'http://www.uschess.org/msa/XtblMain.php?202207301332', 'http://www.uschess.org/msa/XtblMain.php?202208013882', 'http://www.uschess.org/msa/XtblMain.php?202208013892', 'http://www.uschess.org/msa/XtblMain.php?202208013902', 'http://www.uschess.org/msa/XtblMain.php?202208013912', 'http://www.uschess.org/msa/XtblMain.php?202208033922', 'http://www.uschess.org/msa/XtblMain.php?202208033932', 'http://www.uschess.org/msa/XtblMain.php?202208053942', 'http://www.uschess.org/msa/XtblMain.php?202208053952', 'http://www.uschess.org/msa/XtblMain.php?202208063962', 'http://www.uschess.org/msa/XtblMain.php?202208063972', 'http://www.uschess.org/msa/XtblMain.php?202208086032', 'http://www.uschess.org/msa/XtblMain.php?202208086042', 'http://www.uschess.org/msa/XtblMain.php?202208086052', 'http://www.uschess.org/msa/XtblMain.php?202208086062', 'http://www.uschess.org/msa/XtblMain.php?202208106072', 'http://www.uschess.org/msa/XtblMain.php?202208106082', 'http://www.uschess.org/msa/XtblMain.php?202208129552', 'http://www.uschess.org/msa/XtblMain.php?202208129562', 'http://www.uschess.org/msa/XtblMain.php?202208139572', 'http://www.uschess.org/msa/XtblMain.php?202208139582', 'http://www.uschess.org/msa/XtblMain.php?202208159592', 'http://www.uschess.org/msa/XtblMain.php?202208159602', 'http://www.uschess.org/msa/XtblMain.php?202208159612', 'http://www.uschess.org/msa/XtblMain.php?202208159622', 'http://www.uschess.org/msa/XtblMain.php?202208172932', 'http://www.uschess.org/msa/XtblMain.php?202208172942', 'http://www.uschess.org/msa/XtblMain.php?202208192952', 'http://www.uschess.org/msa/XtblMain.php?202208193212', 'http://www.uschess.org/msa/XtblMain.php?202208202962', 'http://www.uschess.org/msa/XtblMain.php?202208202972', 'http://www.uschess.org/msa/XtblMain.php?202208222982', 'http://www.uschess.org/msa/XtblMain.php?202208222992', 'http://www.uschess.org/msa/XtblMain.php?202208223002', 'http://www.uschess.org/msa/XtblMain.php?202208223222', 'http://www.uschess.org/msa/XtblMain.php?202208245252', 'http://www.uschess.org/msa/XtblMain.php?202208245262', 'http://www.uschess.org/msa/XtblMain.php?202208265272', 'http://www.uschess.org/msa/XtblMain.php?202208265282', 'http://www.uschess.org/msa/XtblMain.php?202208275292', 'http://www.uschess.org/msa/XtblMain.php?202208275302', 'http://www.uschess.org/msa/XtblMain.php?202208295312', 'http://www.uschess.org/msa/XtblMain.php?202208295322', 'http://www.uschess.org/msa/XtblMain.php?202208295332', 'http://www.uschess.org/msa/XtblMain.php?202208295342', 'http://www.uschess.org/msa/XtblMain.php?202208318392', 'http://www.uschess.org/msa/XtblMain.php?202208318402', 'http://www.uschess.org/msa/XtblMain.php?202209028412', 'http://www.uschess.org/msa/XtblMain.php?202209028422', 'http://www.uschess.org/msa/XtblMain.php?202209038432', 'http://www.uschess.org/msa/XtblMain.php?202209038442', 'http://www.uschess.org/msa/XtblMain.php?202209058452', 'http://www.uschess.org/msa/XtblMain.php?202209058462', 'http://www.uschess.org/msa/XtblMain.php?202209058472', 'http://www.uschess.org/msa/XtblMain.php?202209058482', 'http://www.uschess.org/msa/XtblMain.php?202209075942', 'http://www.uschess.org/msa/XtblMain.php?202209075952', 'http://www.uschess.org/msa/XtblMain.php?202209095962', 'http://www.uschess.org/msa/XtblMain.php?202209095972', 'http://www.uschess.org/msa/XtblMain.php?202209105982', 'http://www.uschess.org/msa/XtblMain.php?202209105992', 'http://www.uschess.org/msa/XtblMain.php?202209126022', 'http://www.uschess.org/msa/XtblMain.php?202209126032', 'http://www.uschess.org/msa/XtblMain.php?202209126042', 'http://www.uschess.org/msa/XtblMain.php?202209126052', 'http://www.uschess.org/msa/XtblMain.php?202209146062', 'http://www.uschess.org/msa/XtblMain.php?202209146072', 'http://www.uschess.org/msa/XtblMain.php?202209168572', 'http://www.uschess.org/msa/XtblMain.php?202209168582', 'http://www.uschess.org/msa/XtblMain.php?202209178592', 'http://www.uschess.org/msa/XtblMain.php?202209178602', 'http://www.uschess.org/msa/XtblMain.php?202209198652', 'http://www.uschess.org/msa/XtblMain.php?202209198662', 'http://www.uschess.org/msa/XtblMain.php?202209198672', 'http://www.uschess.org/msa/XtblMain.php?202209198682', 'http://www.uschess.org/msa/XtblMain.php?202209218692', 'http://www.uschess.org/msa/XtblMain.php?202209218702', 'http://www.uschess.org/msa/XtblMain.php?202209238712', 'http://www.uschess.org/msa/XtblMain.php?202209238722', 'http://www.uschess.org/msa/XtblMain.php?202209243632', 'http://www.uschess.org/msa/XtblMain.php?202209248732', 'http://www.uschess.org/msa/XtblMain.php?202209263662', 'http://www.uschess.org/msa/XtblMain.php?202209263672', 'http://www.uschess.org/msa/XtblMain.php?202209263682', 'http://www.uschess.org/msa/XtblMain.php?202209263692', 'http://www.uschess.org/msa/XtblMain.php?202209283702', 'http://www.uschess.org/msa/XtblMain.php?202209283712', 'http://www.uschess.org/msa/XtblMain.php?202209303722', 'http://www.uschess.org/msa/XtblMain.php?202209303732', 'http://www.uschess.org/msa/XtblMain.php?202210013742', 'http://www.uschess.org/msa/XtblMain.php?202210013752', 'http://www.uschess.org/msa/XtblMain.php?202210038412', 'http://www.uschess.org/msa/XtblMain.php?202210038422', 'http://www.uschess.org/msa/XtblMain.php?202210038432', 'http://www.uschess.org/msa/XtblMain.php?202210038442', 'http://www.uschess.org/msa/XtblMain.php?202210058452', 'http://www.uschess.org/msa/XtblMain.php?202210058462', 'http://www.uschess.org/msa/XtblMain.php?202210078472', 'http://www.uschess.org/msa/XtblMain.php?202210078482', 'http://www.uschess.org/msa/XtblMain.php?202210088492', 'http://www.uschess.org/msa/XtblMain.php?202210088502', 'http://www.uschess.org/msa/XtblMain.php?202210108512', 'http://www.uschess.org/msa/XtblMain.php?202210108522', 'http://www.uschess.org/msa/XtblMain.php?202210108532', 'http://www.uschess.org/msa/XtblMain.php?202210108542', 'http://www.uschess.org/msa/XtblMain.php?202210128552', 'http://www.uschess.org/msa/XtblMain.php?202210128562', 'http://www.uschess.org/msa/XtblMain.php?202210144102', 'http://www.uschess.org/msa/XtblMain.php?202210144112', 'http://www.uschess.org/msa/XtblMain.php?202210154122', 'http://www.uschess.org/msa/XtblMain.php?202210154132', 'http://www.uschess.org/msa/XtblMain.php?202210174142', 'http://www.uschess.org/msa/XtblMain.php?202210174152', 'http://www.uschess.org/msa/XtblMain.php?202210174162', 'http://www.uschess.org/msa/XtblMain.php?202210174172', 'http://www.uschess.org/msa/XtblMain.php?202210194182', 'http://www.uschess.org/msa/XtblMain.php?202210194192', 'http://www.uschess.org/msa/XtblMain.php?202210215912', 'http://www.uschess.org/msa/XtblMain.php?202210215922', 'http://www.uschess.org/msa/XtblMain.php?202210225932', 'http://www.uschess.org/msa/XtblMain.php?202210225942', 'http://www.uschess.org/msa/XtblMain.php?202210245952', 'http://www.uschess.org/msa/XtblMain.php?202210245962', 'http://www.uschess.org/msa/XtblMain.php?202210245972', 'http://www.uschess.org/msa/XtblMain.php?202210245982', 'http://www.uschess.org/msa/XtblMain.php?202210269202', 'http://www.uschess.org/msa/XtblMain.php?202210269212', 'http://www.uschess.org/msa/XtblMain.php?202210289162', 'http://www.uschess.org/msa/XtblMain.php?202210289172', 'http://www.uschess.org/msa/XtblMain.php?202210299182', 'http://www.uschess.org/msa/XtblMain.php?202210299192', 'http://www.uschess.org/msa/XtblMain.php?202210319222', 'http://www.uschess.org/msa/XtblMain.php?202210319232', 'http://www.uschess.org/msa/XtblMain.php?202210319242', 'http://www.uschess.org/msa/XtblMain.php?202210319252', 'http://www.uschess.org/msa/XtblMain.php?202211029262', 'http://www.uschess.org/msa/XtblMain.php?202211029272', 'http://www.uschess.org/msa/XtblMain.php?202211045922', 'http://www.uschess.org/msa/XtblMain.php?202211045932', 'http://www.uschess.org/msa/XtblMain.php?202211055942', 'http://www.uschess.org/msa/XtblMain.php?202211055952', 'http://www.uschess.org/msa/XtblMain.php?202211075982', 'http://www.uschess.org/msa/XtblMain.php?202211075992', 'http://www.uschess.org/msa/XtblMain.php?202211076002', 'http://www.uschess.org/msa/XtblMain.php?202211076012', 'http://www.uschess.org/msa/XtblMain.php?202211096022', 'http://www.uschess.org/msa/XtblMain.php?202211096032', 'http://www.uschess.org/msa/XtblMain.php?202211116452', 'http://www.uschess.org/msa/XtblMain.php?202211116462', 'http://www.uschess.org/msa/XtblMain.php?202211126472', 'http://www.uschess.org/msa/XtblMain.php?202211126482', 'http://www.uschess.org/msa/XtblMain.php?202211142182', 'http://www.uschess.org/msa/XtblMain.php?202211142192', 'http://www.uschess.org/msa/XtblMain.php?202211142202', 'http://www.uschess.org/msa/XtblMain.php?202211142212', 'http://www.uschess.org/msa/XtblMain.php?202211162222', 'http://www.uschess.org/msa/XtblMain.php?202211162232', 'http://www.uschess.org/msa/XtblMain.php?202211182242', 'http://www.uschess.org/msa/XtblMain.php?202211182252', 'http://www.uschess.org/msa/XtblMain.php?202211192262', 'http://www.uschess.org/msa/XtblMain.php?202211192272', 'http://www.uschess.org/msa/XtblMain.php?202211214912', 'http://www.uschess.org/msa/XtblMain.php?202211214922', 'http://www.uschess.org/msa/XtblMain.php?202211214932', 'http://www.uschess.org/msa/XtblMain.php?202211214942', 'http://www.uschess.org/msa/XtblMain.php?202211234952', 'http://www.uschess.org/msa/XtblMain.php?202211234962', 'http://www.uschess.org/msa/XtblMain.php?202211254972', 'http://www.uschess.org/msa/XtblMain.php?202211254982', 'http://www.uschess.org/msa/XtblMain.php?202211264992', 'http://www.uschess.org/msa/XtblMain.php?202211265002', 'http://www.uschess.org/msa/XtblMain.php?202211286632', 'http://www.uschess.org/msa/XtblMain.php?202211286642', 'http://www.uschess.org/msa/XtblMain.php?202211286652', 'http://www.uschess.org/msa/XtblMain.php?202211286662', 'http://www.uschess.org/msa/XtblMain.php?202211306672', 'http://www.uschess.org/msa/XtblMain.php?202211306682', 'http://www.uschess.org/msa/XtblMain.php?202212021192', 'http://www.uschess.org/msa/XtblMain.php?202212021202', 'http://www.uschess.org/msa/XtblMain.php?202212031212', 'http://www.uschess.org/msa/XtblMain.php?202212031222', 'http://www.uschess.org/msa/XtblMain.php?202212051232', 'http://www.uschess.org/msa/XtblMain.php?202212051242', 'http://www.uschess.org/msa/XtblMain.php?202212051252', 'http://www.uschess.org/msa/XtblMain.php?202212051262', 'http://www.uschess.org/msa/XtblMain.php?202212074382', 'http://www.uschess.org/msa/XtblMain.php?202212074392', 'http://www.uschess.org/msa/XtblMain.php?202212094402', 'http://www.uschess.org/msa/XtblMain.php?202212094412', 'http://www.uschess.org/msa/XtblMain.php?202212104422', 'http://www.uschess.org/msa/XtblMain.php?202212104432', 'http://www.uschess.org/msa/XtblMain.php?202212124442', 'http://www.uschess.org/msa/XtblMain.php?202212124452', 'http://www.uschess.org/msa/XtblMain.php?202212124462', 'http://www.uschess.org/msa/XtblMain.php?202212124472', 'http://www.uschess.org/msa/XtblMain.php?202212144482', 'http://www.uschess.org/msa/XtblMain.php?202212144492', 'http://www.uschess.org/msa/XtblMain.php?202212166352', 'http://www.uschess.org/msa/XtblMain.php?202212166362', 'http://www.uschess.org/msa/XtblMain.php?202212176372', 'http://www.uschess.org/msa/XtblMain.php?202212176382', 'http://www.uschess.org/msa/XtblMain.php?202212196392', 'http://www.uschess.org/msa/XtblMain.php?202212196402', 'http://www.uschess.org/msa/XtblMain.php?202212196412', 'http://www.uschess.org/msa/XtblMain.php?202212196422', 'http://www.uschess.org/msa/XtblMain.php?202212216432', 'http://www.uschess.org/msa/XtblMain.php?202212216442', 'http://www.uschess.org/msa/XtblMain.php?202212230342', 'http://www.uschess.org/msa/XtblMain.php?202212230352', 'http://www.uschess.org/msa/XtblMain.php?202212240362', 'http://www.uschess.org/msa/XtblMain.php?202212240372', 'http://www.uschess.org/msa/XtblMain.php?202212260392', 'http://www.uschess.org/msa/XtblMain.php?202212260402', 'http://www.uschess.org/msa/XtblMain.php?202212260412', 'http://www.uschess.org/msa/XtblMain.php?202212260422', 'http://www.uschess.org/msa/XtblMain.php?202212280432', 'http://www.uschess.org/msa/XtblMain.php?202212280442', 'http://www.uschess.org/msa/XtblMain.php?202212300452', 'http://www.uschess.org/msa/XtblMain.php?202212300462', 'http://www.uschess.org/msa/XtblMain.php?202212310472', 'http://www.uschess.org/msa/XtblMain.php?202212310632']\n"
     ]
    }
   ],
   "source": [
    "driver: Chrome = load_driver()\n",
    "# print(scrape_all_uscf_urls(driver))"
   ]
  },
  {
   "cell_type": "code",
   "execution_count": 8,
   "metadata": {},
   "outputs": [],
   "source": [
    "# from datetime import datetime\n",
    "\n",
    "# STARTING_URL: str = 'https://www.chess.com/tournament/live?&page='\n",
    "\n",
    "# def go_to_tournament(day, month, year, starting_url):\n",
    "#     driver.get(starting_url)\n",
    "#     date_string = driver.find_element(By.CLASS_NAME, 'tournaments-live-date')\n",
    "#     date = datetime.strptime(date_string.text, '%b %d, %Y, %I:%M %p')\n",
    "\n",
    "# 0 to 9000 is what chess.com currently allows\n",
    "# def go_to_right_year(target, url, page) -> bool:\n",
    "#     driver.get(url + page)\n",
    "#     date_string = driver.find_element(By.CLASS_NAME, 'tournaments-live-date')\n",
    "#     date = datetime.strptime(date_string.text, '%b %d, %Y, %I:%M %p')\n",
    "#     if target < date.year:\n",
    "#         page = page + step_size\n",
    "#         step_size = step_size / 2\n",
    "\n",
    "\n",
    "        "
   ]
  }
 ],
 "metadata": {
  "kernelspec": {
   "display_name": "base",
   "language": "python",
   "name": "python3"
  },
  "language_info": {
   "codemirror_mode": {
    "name": "ipython",
    "version": 3
   },
   "file_extension": ".py",
   "mimetype": "text/x-python",
   "name": "python",
   "nbconvert_exporter": "python",
   "pygments_lexer": "ipython3",
   "version": "3.9.13"
  },
  "orig_nbformat": 4,
  "vscode": {
   "interpreter": {
    "hash": "08dda85ff3eed27e021538f884514942bf23697aea11a618f005da4f18a9508c"
   }
  }
 },
 "nbformat": 4,
 "nbformat_minor": 2
}
