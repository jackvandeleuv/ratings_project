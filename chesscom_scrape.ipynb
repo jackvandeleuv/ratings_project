{
 "cells": [
  {
   "cell_type": "code",
   "execution_count": 1,
   "metadata": {},
   "outputs": [],
   "source": [
    "# from datetime import datetime\n",
    "\n",
    "# STARTING_URL: str = 'https://www.chess.com/tournament/live?&page='\n",
    "\n",
    "# def go_to_tournament(day, month, year, starting_url):\n",
    "#     driver.get(starting_url)\n",
    "#     date_string = driver.find_element(By.CLASS_NAME, 'tournaments-live-date')\n",
    "#     date = datetime.strptime(date_string.text, '%b %d, %Y, %I:%M %p')\n",
    "\n",
    "# 0 to 9000 is what chess.com currently allows\n",
    "# def go_to_right_year(target, url, page) -> bool:\n",
    "#     driver.get(url + page)\n",
    "#     date_string = driver.find_element(By.CLASS_NAME, 'tournaments-live-date')\n",
    "#     date = datetime.strptime(date_string.text, '%b %d, %Y, %I:%M %p')\n",
    "#     if target < date.year:\n",
    "#         page = page + step_size\n",
    "#         step_size = step_size / 2"
   ]
  }
 ],
 "metadata": {
  "kernelspec": {
   "display_name": "Python 3",
   "language": "python",
   "name": "python3"
  },
  "language_info": {
   "codemirror_mode": {
    "name": "ipython",
    "version": 3
   },
   "file_extension": ".py",
   "mimetype": "text/x-python",
   "name": "python",
   "nbconvert_exporter": "python",
   "pygments_lexer": "ipython3",
   "version": "3.10.9"
  },
  "orig_nbformat": 4,
  "vscode": {
   "interpreter": {
    "hash": "8847a1964e06e9ff696a324076a4503bdfaba6fced3a478c9485b6f3a5e8671d"
   }
  }
 },
 "nbformat": 4,
 "nbformat_minor": 2
}
